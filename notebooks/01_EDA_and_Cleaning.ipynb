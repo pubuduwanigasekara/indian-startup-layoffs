{
 "cells": [
  {
   "cell_type": "code",
   "execution_count": 2,
   "id": "a6eda834",
   "metadata": {},
   "outputs": [],
   "source": [
    "import pandas as pd"
   ]
  },
  {
   "cell_type": "code",
   "execution_count": 5,
   "id": "32a0f5c5-0644-465f-b05b-b23208de05b5",
   "metadata": {},
   "outputs": [],
   "source": [
    "file_path = '../data/Layoffs_Dataset.csv'"
   ]
  },
  {
   "cell_type": "code",
   "execution_count": null,
   "id": "9547c979-951d-41d4-a537-0bc051bec2bb",
   "metadata": {},
   "outputs": [],
   "source": [
    "df = pd.read_csv(file_path)"
   ]
  },
  {
   "cell_type": "code",
   "execution_count": 7,
   "id": "060f5350-3816-453e-a737-f8e2f241a4d4",
   "metadata": {},
   "outputs": [
    {
     "data": {
      "text/html": [
       "<div>\n",
       "<style scoped>\n",
       "    .dataframe tbody tr th:only-of-type {\n",
       "        vertical-align: middle;\n",
       "    }\n",
       "\n",
       "    .dataframe tbody tr th {\n",
       "        vertical-align: top;\n",
       "    }\n",
       "\n",
       "    .dataframe thead th {\n",
       "        text-align: right;\n",
       "    }\n",
       "</style>\n",
       "<table border=\"1\" class=\"dataframe\">\n",
       "  <thead>\n",
       "    <tr style=\"text-align: right;\">\n",
       "      <th></th>\n",
       "      <th>Company Name</th>\n",
       "      <th>Industry</th>\n",
       "      <th>Layoff Count</th>\n",
       "      <th>Date of Layoff</th>\n",
       "      <th>Reason</th>\n",
       "      <th>City</th>\n",
       "      <th>Funding Status</th>\n",
       "      <th>Source URL</th>\n",
       "    </tr>\n",
       "  </thead>\n",
       "  <tbody>\n",
       "    <tr>\n",
       "      <th>0</th>\n",
       "      <td>Paytm</td>\n",
       "      <td>Fintech</td>\n",
       "      <td>3500</td>\n",
       "      <td>2024</td>\n",
       "      <td>RBI ban on Paytm Payments Bank services</td>\n",
       "      <td>Noida</td>\n",
       "      <td>Public</td>\n",
       "      <td>Storyboard18</td>\n",
       "    </tr>\n",
       "    <tr>\n",
       "      <th>1</th>\n",
       "      <td>Flipkart</td>\n",
       "      <td>E-commerce</td>\n",
       "      <td>1100–1500</td>\n",
       "      <td>Jan 2024</td>\n",
       "      <td>Restructuring and cost management</td>\n",
       "      <td>Bengaluru</td>\n",
       "      <td>Acquired by Walmart</td>\n",
       "      <td>Storyboard18</td>\n",
       "    </tr>\n",
       "    <tr>\n",
       "      <th>2</th>\n",
       "      <td>Byju's</td>\n",
       "      <td>Edtech</td>\n",
       "      <td>500</td>\n",
       "      <td>Apr 2024</td>\n",
       "      <td>Financial crunch and legal disputes</td>\n",
       "      <td>Bengaluru</td>\n",
       "      <td>Private</td>\n",
       "      <td>Economic Times</td>\n",
       "    </tr>\n",
       "    <tr>\n",
       "      <th>3</th>\n",
       "      <td>Swiggy</td>\n",
       "      <td>Food Delivery</td>\n",
       "      <td>400</td>\n",
       "      <td>2024</td>\n",
       "      <td>Cost-cutting measures</td>\n",
       "      <td>Bengaluru</td>\n",
       "      <td>Private</td>\n",
       "      <td>Storyboard18</td>\n",
       "    </tr>\n",
       "    <tr>\n",
       "      <th>4</th>\n",
       "      <td>Ola Electric</td>\n",
       "      <td>Automotive</td>\n",
       "      <td>300–400</td>\n",
       "      <td>Nov 2024</td>\n",
       "      <td>Cost-cutting drive</td>\n",
       "      <td>Bengaluru</td>\n",
       "      <td>Private</td>\n",
       "      <td>Economic Times</td>\n",
       "    </tr>\n",
       "  </tbody>\n",
       "</table>\n",
       "</div>"
      ],
      "text/plain": [
       "   Company Name       Industry Layoff Count Date of Layoff  \\\n",
       "0         Paytm        Fintech         3500           2024   \n",
       "1      Flipkart     E-commerce    1100–1500       Jan 2024   \n",
       "2        Byju's         Edtech          500       Apr 2024   \n",
       "3        Swiggy  Food Delivery          400           2024   \n",
       "4  Ola Electric     Automotive      300–400       Nov 2024   \n",
       "\n",
       "                                    Reason       City       Funding Status  \\\n",
       "0  RBI ban on Paytm Payments Bank services      Noida               Public   \n",
       "1        Restructuring and cost management  Bengaluru  Acquired by Walmart   \n",
       "2      Financial crunch and legal disputes  Bengaluru              Private   \n",
       "3                    Cost-cutting measures  Bengaluru              Private   \n",
       "4                       Cost-cutting drive  Bengaluru              Private   \n",
       "\n",
       "       Source URL  \n",
       "0    Storyboard18  \n",
       "1    Storyboard18  \n",
       "2  Economic Times  \n",
       "3    Storyboard18  \n",
       "4  Economic Times  "
      ]
     },
     "execution_count": 7,
     "metadata": {},
     "output_type": "execute_result"
    }
   ],
   "source": [
    "df.head()"
   ]
  },
  {
   "cell_type": "code",
   "execution_count": null,
   "id": "e170663d-698e-474f-8d45-3ca684cd8dbe",
   "metadata": {},
   "outputs": [],
   "source": []
  }
 ],
 "metadata": {
  "kernelspec": {
   "display_name": "Python 3 (ipykernel)",
   "language": "python",
   "name": "python3"
  },
  "language_info": {
   "codemirror_mode": {
    "name": "ipython",
    "version": 3
   },
   "file_extension": ".py",
   "mimetype": "text/x-python",
   "name": "python",
   "nbconvert_exporter": "python",
   "pygments_lexer": "ipython3",
   "version": "3.10.17"
  }
 },
 "nbformat": 4,
 "nbformat_minor": 5
}
