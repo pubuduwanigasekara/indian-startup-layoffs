{
 "cells": [
  {
   "cell_type": "code",
   "execution_count": 1,
   "id": "615dca51-c582-4bad-91e8-d6bfd33aedef",
   "metadata": {},
   "outputs": [],
   "source": [
    "from sklearn.cluster import KMeans\n",
    "from sklearn.linear_model import LinearRegression\n",
    "from sklearn.preprocessing import LabelEncoder\n",
    "from sklearn.model_selection import train_test_split"
   ]
  },
  {
   "cell_type": "code",
   "execution_count": 11,
   "id": "8a582440-fa52-4d11-88bb-9f7b9ec19f5a",
   "metadata": {},
   "outputs": [],
   "source": [
    "import pandas as pd\n",
    "\n",
    "file_path = '../data/Layoffs_Dataset.csv'\n",
    "\n",
    "df = pd.read_csv(file_path)"
   ]
  },
  {
   "cell_type": "code",
   "execution_count": 15,
   "id": "980fefdd-4e48-49e9-bede-b3b216e7ba03",
   "metadata": {},
   "outputs": [],
   "source": [
    "import numpy as np\n",
    "\n",
    "# Convert \"Layoff Count\" ranges to numeric averages\n",
    "def convert_layoff_count(value):\n",
    "    if pd.isna(value):\n",
    "        return np.nan\n",
    "    value = str(value).strip()\n",
    "    if '–' in value:  # en dash\n",
    "        try:\n",
    "            low, high = map(int, value.replace(',', '').split('–'))\n",
    "            return (low + high) / 2\n",
    "        except:\n",
    "            return np.nan\n",
    "    elif '-' in value:  # hyphen\n",
    "        try:\n",
    "            low, high = map(int, value.replace(',', '').split('-'))\n",
    "            return (low + high) / 2\n",
    "        except:\n",
    "            return np.nan\n",
    "    elif '%' in value or not value.isdigit():\n",
    "        return np.nan\n",
    "    else:\n",
    "        return float(value)\n",
    "\n",
    "df['Layoff Count Clean'] = df['Layoff Count'].apply(convert_layoff_count)\n",
    "\n",
    "# Extract year from 'Date of Layoff'\n",
    "df['Layoff Year'] = pd.to_datetime(df['Date of Layoff'], errors='coerce').dt.year\n",
    "df['Layoff Year'] = df['Layoff Year'].fillna(\n",
    "    df['Date of Layoff'].str.extract(r'(\\d{4})')[0].astype(float)\n",
    ")"
   ]
  },
  {
   "cell_type": "code",
   "execution_count": 16,
   "id": "6d2cb085-44b6-4f8b-aec0-f6f884527623",
   "metadata": {},
   "outputs": [],
   "source": [
    "# Clustering: KMeans\n",
    "kmeans = KMeans(n_clusters=3, random_state=42)\n",
    "df['Layoff Cluster'] = kmeans.fit_predict(df[['Layoff Count Clean']].fillna(0))"
   ]
  },
  {
   "cell_type": "code",
   "execution_count": 17,
   "id": "e86e8c3e-ceec-463d-b80f-7181a6958930",
   "metadata": {},
   "outputs": [],
   "source": [
    "# Regression: Encode funding and industry\n",
    "df_model = df[['Layoff Count Clean', 'Funding Status', 'Industry']].dropna()\n",
    "le_funding = LabelEncoder()\n",
    "le_industry = LabelEncoder()\n",
    "df_model['Funding_Code'] = le_funding.fit_transform(df_model['Funding Status'])\n",
    "df_model['Industry_Code'] = le_industry.fit_transform(df_model['Industry'])"
   ]
  },
  {
   "cell_type": "code",
   "execution_count": 18,
   "id": "fa69bc04-03ab-4330-ab20-f2770aaf56af",
   "metadata": {},
   "outputs": [
    {
     "name": "stdout",
     "output_type": "stream",
     "text": [
      "Regression Coefficients: [833.50063904 166.74762826]\n",
      "Intercept: -1376.368559430343\n",
      "R^2 Score: -0.1949543876000317\n"
     ]
    }
   ],
   "source": [
    "# Model\n",
    "X = df_model[['Funding_Code', 'Industry_Code']]\n",
    "y = df_model['Layoff Count Clean']\n",
    "X_train, X_test, y_train, y_test = train_test_split(X, y, random_state=42)\n",
    "model = LinearRegression().fit(X_train, y_train)\n",
    "print(\"Regression Coefficients:\", model.coef_)\n",
    "print(\"Intercept:\", model.intercept_)\n",
    "print(\"R^2 Score:\", model.score(X_test, y_test))"
   ]
  },
  {
   "cell_type": "code",
   "execution_count": null,
   "id": "d1d16783-65f0-4e46-9129-645ea9e49515",
   "metadata": {},
   "outputs": [],
   "source": []
  }
 ],
 "metadata": {
  "kernelspec": {
   "display_name": "Python 3 (ipykernel)",
   "language": "python",
   "name": "python3"
  },
  "language_info": {
   "codemirror_mode": {
    "name": "ipython",
    "version": 3
   },
   "file_extension": ".py",
   "mimetype": "text/x-python",
   "name": "python",
   "nbconvert_exporter": "python",
   "pygments_lexer": "ipython3",
   "version": "3.10.17"
  }
 },
 "nbformat": 4,
 "nbformat_minor": 5
}
